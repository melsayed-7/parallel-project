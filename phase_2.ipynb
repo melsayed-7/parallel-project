{
  "nbformat": 4,
  "nbformat_minor": 0,
  "metadata": {
    "colab": {
      "name": "TEST.ipynb",
      "provenance": [],
      "collapsed_sections": [
        "E9KtdbGHuVZP",
        "_FkpAacU0vtN"
      ],
      "include_colab_link": true
    },
    "kernelspec": {
      "name": "python3",
      "display_name": "Python 3"
    },
    "accelerator": "GPU"
  },
  "cells": [
    {
      "cell_type": "markdown",
      "metadata": {
        "id": "view-in-github",
        "colab_type": "text"
      },
      "source": [
        "<a href=\"https://colab.research.google.com/github/moustafa-7/parallel-project/blob/main/phase_2.ipynb\" target=\"_parent\"><img src=\"https://colab.research.google.com/assets/colab-badge.svg\" alt=\"Open In Colab\"/></a>"
      ]
    },
    {
      "cell_type": "code",
      "metadata": {
        "id": "Iot-W1sspEe7"
      },
      "source": [
        "#setup"
      ],
      "execution_count": null,
      "outputs": []
    },
    {
      "cell_type": "code",
      "metadata": {
        "id": "_C029FtL8AFV"
      },
      "source": [
        ""
      ],
      "execution_count": null,
      "outputs": []
    },
    {
      "cell_type": "code",
      "metadata": {
        "colab": {
          "base_uri": "https://localhost:8080/"
        },
        "id": "xi3HrfBGHPvc",
        "outputId": "488b4aa1-b761-48d5-dcbc-3e9e18f456a8"
      },
      "source": [
        "from google.colab import drive\n",
        "drive.mount('/content/drive')"
      ],
      "execution_count": 171,
      "outputs": [
        {
          "output_type": "stream",
          "text": [
            "Drive already mounted at /content/drive; to attempt to forcibly remount, call drive.mount(\"/content/drive\", force_remount=True).\n"
          ],
          "name": "stdout"
        }
      ]
    },
    {
      "cell_type": "code",
      "metadata": {
        "colab": {
          "base_uri": "https://localhost:8080/"
        },
        "id": "BU96IZZWHfvK",
        "outputId": "236df730-973b-41ac-de06-0b4da803a95b"
      },
      "source": [
        "%cd /content/drive/MyDrive/parallel_final_project"
      ],
      "execution_count": 172,
      "outputs": [
        {
          "output_type": "stream",
          "text": [
            "/content/drive/MyDrive/parallel_final_project\n"
          ],
          "name": "stdout"
        }
      ]
    },
    {
      "cell_type": "markdown",
      "metadata": {
        "id": "E9KtdbGHuVZP"
      },
      "source": [
        "## load kernel function"
      ]
    },
    {
      "cell_type": "code",
      "metadata": {
        "colab": {
          "base_uri": "https://localhost:8080/"
        },
        "id": "hbblwsrSwhiR",
        "outputId": "8dd76f93-173d-4da3-f616-8944d5366a87"
      },
      "source": [
        "%%file load_kernel.h\n",
        "\n",
        "long LoadOpenCLKernel(char const* path, char **buf)\n",
        "{\n",
        "    FILE  *fp;\n",
        "    size_t fsz;\n",
        "    long   off_end;\n",
        "    int    rc;\n",
        "\n",
        "    /* Open the file */\n",
        "    fp = fopen(path, \"r\");\n",
        "    if( NULL == fp ) {\n",
        "        return -1L;\n",
        "    }\n",
        "\n",
        "    /* Seek to the end of the file */\n",
        "    rc = fseek(fp, 0L, SEEK_END);\n",
        "    if( 0 != rc ) {\n",
        "        return -1L;\n",
        "    }\n",
        "\n",
        "    /* Byte offset to the end of the file (size) */\n",
        "    if( 0 > (off_end = ftell(fp)) ) {\n",
        "        return -1L;\n",
        "    }\n",
        "    fsz = (size_t)off_end;\n",
        "\n",
        "    /* Allocate a buffer to hold the whole file */\n",
        "    *buf = (char *) malloc( fsz+1);\n",
        "    if( NULL == *buf ) {\n",
        "        return -1L;\n",
        "    }\n",
        "\n",
        "    /* Rewind file pointer to start of file */\n",
        "    rewind(fp);\n",
        "\n",
        "    /* Slurp file into buffer */\n",
        "    if( fsz != fread(*buf, 1, fsz, fp) ) {\n",
        "        free(*buf);\n",
        "        return -1L;\n",
        "    }\n",
        "\n",
        "    /* Close the file */\n",
        "    if( EOF == fclose(fp) ) {\n",
        "        free(*buf);\n",
        "        return -1L;\n",
        "    }\n",
        "\n",
        "\n",
        "    /* Make sure the buffer is NUL-terminated, just in case */\n",
        "    (*buf)[fsz] = '\\0';\n",
        "\n",
        "    /* Return the file size */\n",
        "    return (long)fsz;\n",
        "}\n"
      ],
      "execution_count": 173,
      "outputs": [
        {
          "output_type": "stream",
          "text": [
            "Overwriting load_kernel.h\n"
          ],
          "name": "stdout"
        }
      ]
    },
    {
      "cell_type": "markdown",
      "metadata": {
        "id": "_FkpAacU0vtN"
      },
      "source": [
        "## Setup"
      ]
    },
    {
      "cell_type": "code",
      "metadata": {
        "colab": {
          "base_uri": "https://localhost:8080/"
        },
        "id": "zjnh5JYezxh5",
        "outputId": "f2f273db-58cf-4f3b-ce9a-282c673ddc77"
      },
      "source": [
        "%%file setup.h\n",
        "\n",
        "printf(\"Initializing OpenCL device...\\n\");\n",
        "\n",
        "   cl_uint dev_cnt = 0;\n",
        "   clGetPlatformIDs(0, 0, &dev_cnt);\n",
        "\n",
        "   cl_platform_id platform_ids[dev_cnt];\n",
        "   clGetPlatformIDs(dev_cnt, platform_ids, NULL);\n",
        "\n",
        "   // Connect to a compute device\n",
        "   int gpu = 1;\n",
        "   err = clGetDeviceIDs(platform_ids[0], gpu ? CL_DEVICE_TYPE_GPU : CL_DEVICE_TYPE_CPU, 1, &device_id, NULL);\n",
        "   if (err != CL_SUCCESS)\n",
        "   {\n",
        "       printf(\"Error: Failed to create a device group!\\n\");\n",
        "       return EXIT_FAILURE;\n",
        "   }\n",
        "\n",
        "   // Create a compute context\n",
        "   context = clCreateContext(0, 1, &device_id, NULL, NULL, &err);\n",
        "   if (!context)\n",
        "   {\n",
        "       printf(\"Error: Failed to create a compute context!\\n\");\n",
        "       return EXIT_FAILURE;\n",
        "   }\n",
        "\n",
        "   // Create a command commands\n",
        "   commands = clCreateCommandQueue(context, device_id, 0, &err);\n",
        "   if (!commands)\n",
        "   {\n",
        "       printf(\"Error: Failed to create a command commands!\\n\");\n",
        "       return EXIT_FAILURE;\n",
        "   }\n",
        "\n",
        "   // Create the compute program from the source file\n",
        "   char *KernelSource;\n",
        "   long lFileSize;\n",
        "\n",
        "\n",
        "\n",
        "   // ############# change kernel name here ############################## replace \"add_kernel.cl\" with whatever \n",
        "   lFileSize = LoadOpenCLKernel(\"vec_add.cl\", &KernelSource);\n",
        "   \n",
        "   if( lFileSize < 0L ) {\n",
        "       printf(\"\\nhere\");\n",
        "       perror(\"File read failed\");\n",
        "       return 1;\n",
        "   }\n",
        "\n",
        "   program = clCreateProgramWithSource(context, 1, (const char **) & KernelSource, NULL, &err);\n",
        "   if (!program)\n",
        "   {\n",
        "       printf(\"Error: Failed to create compute program!\\n\");\n",
        "       return EXIT_FAILURE;\n",
        "   }\n",
        "\n",
        "   // Build the program executable\n",
        "   err = clBuildProgram(program, 0, NULL, NULL, NULL, NULL);\n",
        "   if (err != CL_SUCCESS)\n",
        "   {\n",
        "       size_t len;\n",
        "       char buffer[2048];\n",
        "       printf(\"Error: Failed to build program executable!\\n\");\n",
        "       clGetProgramBuildInfo(program, device_id, CL_PROGRAM_BUILD_LOG, sizeof(buffer), buffer, &len);\n",
        "       printf(\"%s\\n\", buffer);\n",
        "       exit(1);\n",
        "   }"
      ],
      "execution_count": 174,
      "outputs": [
        {
          "output_type": "stream",
          "text": [
            "Overwriting setup.h\n"
          ],
          "name": "stdout"
        }
      ]
    },
    {
      "cell_type": "markdown",
      "metadata": {
        "id": "yydQkBpUyJbN"
      },
      "source": [
        "## Kernel/s"
      ]
    },
    {
      "cell_type": "code",
      "metadata": {
        "colab": {
          "base_uri": "https://localhost:8080/"
        },
        "id": "Xkrt-jpOxEs_",
        "outputId": "0b08cf8f-6ecf-4721-868f-896401f44b8a"
      },
      "source": [
        "%%file vec_add.cl\n",
        "\n",
        "\n",
        "\n",
        "int find_max2(__global int* array, int n, int *largest1, int *largest2, int* idx1, int *idx2)\n",
        "{\n",
        "    int temp;\n",
        "    int tempIdx;\n",
        "    *largest1 = array[0];\n",
        "    *largest2 = array[1];\n",
        "    *idx1 = 0;\n",
        "    *idx2 = 1;\n",
        "\n",
        "    if (*largest1 < *largest2)\n",
        "    {\n",
        "        temp = *largest1;\n",
        "        *largest1 = *largest2;\n",
        "        *largest2 = temp;\n",
        "        tempIdx = *idx1;\n",
        "        *idx1 = *idx2;\n",
        "        *idx2 = tempIdx;\n",
        "    }\n",
        " \n",
        "    for (int i = 2; i < n; i++)\n",
        "    {\n",
        "        if (array[i] >= *largest1)\n",
        "        {\n",
        "            *largest2 = *largest1;\n",
        "            *largest1 = array[i];\n",
        "            *idx2 = *idx1;\n",
        "            *idx1 = i;\n",
        "        }\n",
        "        else if (array[i] > *largest2 && array[i] != *largest1)\n",
        "        {\n",
        "            *largest2 = array[i];\n",
        "            *idx2 = i;\n",
        "        }\n",
        "    }\n",
        "}\n",
        "\n",
        "__kernel void vec_add(                           \n",
        "    __global int* data,                           \n",
        "    __local int* local_sum,                           \n",
        "    __global int* global_sum,                           \n",
        "    const unsigned int num_votes ,                     \n",
        "    const unsigned int num_candidates,\n",
        "    const unsigned int num_elements                   \n",
        "    )                                             \n",
        "{            \n",
        "    int id = get_global_id(0); \n",
        "                \n",
        "    int begin = id * num_elements;\n",
        "    int end = begin + (num_elements - 1);\n",
        " \n",
        "    begin = begin * num_candidates;\n",
        "    end = end * (num_candidates) + num_candidates;\n",
        "      \n",
        "    for(int i=begin; i<end; i+=num_candidates){\n",
        "        if(i < num_candidates*num_votes){\n",
        "            /* global_sum[data[i]-1]++; */\n",
        "            atomic_add(&local_sum[data[i]-1] , 1);\n",
        "        }\n",
        "        else{\n",
        "            break;\n",
        "        }\n",
        "    }            \n",
        "    \n",
        "    barrier(CLK_LOCAL_MEM_FENCE);\n",
        "\n",
        "    int local_id = get_local_id(0);\n",
        "\n",
        "    if(local_id == 0){\n",
        "        printf(\"%d\\n\", local_id);\n",
        "        for(int j=0; j<num_candidates; j++){\n",
        "            atomic_add(&global_sum[j] , local_sum[j]);\n",
        "        }\n",
        "    }\n",
        " \n",
        "\n",
        "    int idx_1 = 0;\n",
        "    int idx_2 = 0;\n",
        "    int first = 1;\n",
        "    int second =2 ; \n",
        "    int sum_1 =0;\n",
        "    int sum_2 =0;\n",
        "\n",
        "    if(id == 0){\n",
        "    find_max2(global_sum, num_candidates, &first, &second, &idx_1, &idx_2);\n",
        "    printf(\"%d\\n\", idx_1);\n",
        "    printf(\"%d\\n\", idx_2);\n",
        "    printf(\"%d\\n\", first);\n",
        "    printf(\"%d\\n\", second);\n",
        "    }\n",
        "\n",
        "    /* for(int j=0;j<num_candidates; j++){ */\n",
        "    /*     local_sum[j] = 0; */\n",
        "    /*     global_sum[j] = 0; */\n",
        "    /* } */\n",
        "\n",
        "    /* barrier(CLK_GLOBAL_MEM_FENCE); */\n",
        "\n",
        "\n",
        "    /* if((double)first/(double)num_votes < 0.5){ */\n",
        "    /*   for(int i=begin; i<end; i+=num_candidates){ */\n",
        "    /*     if(i < num_candidates*num_votes){ */\n",
        "    /*       for(int j=0; j<5; j++){ */\n",
        "    /*           if(data[i+j]-1 == idx_1 || data[i+j]-1 == idx_2){ */\n",
        "    /*             atomic_add(&local_sum[data[i+j]-1], 1); */\n",
        "    /*             break; */\n",
        "    /*           } */\n",
        "    /*       } */\n",
        "    /*     } */\n",
        "    /*     else{ */\n",
        "    /*         break; */\n",
        "    /*     } */\n",
        "    /*   } */    \n",
        "    /* } */\n",
        " \n",
        "\n",
        "    /* barrier(CLK_LOCAL_MEM_FENCE); */\n",
        "\n",
        "    /* if(local_id == 0){ */\n",
        "    /*     printf(\"%d\\n\", local_id); */\n",
        "    /*     for(int j=0; j<num_candidates; j++){ */\n",
        "    /*         atomic_add(&global_sum[j] , local_sum[j]); */\n",
        "    /*     } */\n",
        "    /* } */\n",
        "}                                              \n"
      ],
      "execution_count": 216,
      "outputs": [
        {
          "output_type": "stream",
          "text": [
            "Overwriting vec_add.cl\n"
          ],
          "name": "stdout"
        }
      ]
    },
    {
      "cell_type": "code",
      "metadata": {
        "colab": {
          "base_uri": "https://localhost:8080/"
        },
        "id": "tJ8DJmiuplYM",
        "outputId": "d6c92947-5bc5-4d04-e666-3d8cb83fd8ec"
      },
      "source": [
        "%%file TEST.c\n",
        "\n",
        "// #include <stdio.h>\n",
        "// #include <stdlib.h>\n",
        "// #include <math.h>\n",
        "// #include \"load_kernel.h\"\n",
        "// #include <CL/cl.h>                                                        \n",
        "\n",
        "\n",
        "#include <fcntl.h>\n",
        "#include <stdio.h>\n",
        "#include <stdlib.h>\n",
        "#include <string.h>\n",
        "#include <math.h>\n",
        "#include <unistd.h>\n",
        "#include <time.h>\n",
        "#include <sys/types.h>\n",
        "#include <sys/stat.h>\n",
        "#define CL_USE_DEPRECATED_OPENCL_1_2_APIS\n",
        "#include <CL/cl.h>\n",
        "#include <stdbool.h>\n",
        "#include \"load_kernel.h\"\n",
        "\n",
        "\n",
        "// function that returns the largest 2 counts and their indecies\n",
        "int find_max2(int* array, int n, int *largest1, int *largest2, int* idx1, int *idx2)\n",
        "{\n",
        "    int temp;\n",
        "    int tempIdx;\n",
        "    *largest1 = array[0];\n",
        "    *largest2 = array[1];\n",
        "    *idx1 = 0;\n",
        "    *idx2 = 1;\n",
        "\n",
        "    if (*largest1 < *largest2)\n",
        "    {\n",
        "        temp = *largest1;\n",
        "        *largest1 = *largest2;\n",
        "        *largest2 = temp;\n",
        "        tempIdx = *idx1;\n",
        "        *idx1 = *idx2;\n",
        "        *idx2 = tempIdx;\n",
        "    }\n",
        " \n",
        "    for (int i = 2; i < n; i++)\n",
        "    {\n",
        "        if (array[i] >= *largest1)\n",
        "        {\n",
        "            *largest2 = *largest1;\n",
        "            *largest1 = array[i];\n",
        "            *idx2 = *idx1;\n",
        "            *idx1 = i;\n",
        "        }\n",
        "        else if (array[i] > *largest2 && array[i] != *largest1)\n",
        "        {\n",
        "            *largest2 = array[i];\n",
        "            *idx2 = i;\n",
        "        }\n",
        "    }\n",
        "}\n",
        "//\n",
        "\n",
        "int main(int argc, char *argv[])\n",
        "{\n",
        "    \n",
        " ////////////////// Host stuff ///////////////////////\n",
        "\n",
        "  int err;                            // error code returned from api calls\n",
        "\n",
        "  cl_device_id device_id;             // compute device id\n",
        "  cl_context context;                 // compute context\n",
        "  cl_command_queue commands;          // compute command queue\n",
        "  cl_program program;                 // compute program\n",
        "  cl_kernel kernel;                   // compute kernel\n",
        "  clock_t          st, et;                  // Count time\n",
        " \n",
        "//  \n",
        "/////////////////////////////////////////\n",
        "  int num_votes; // number of votes in the file\n",
        "  int num_candidates;\n",
        "  // reading file and put it in data\n",
        "  static const char filename[] = \"./text.txt\";\n",
        "  FILE *file = fopen(filename, \"r\");\n",
        "\n",
        "\n",
        "  fscanf(file, \"%d\", &num_candidates);\n",
        "\n",
        "  fscanf(file, \"%d\", &num_votes);\n",
        "\n",
        "\n",
        "/////////////////////////////////////////\n",
        "  \n",
        "  size_t globalSize, localSize;\n",
        "  // cl_int err;\n",
        "  localSize = 100;\n",
        "  globalSize = ceil(num_votes/(float)localSize)*localSize;\n",
        "\n",
        " \n",
        "  \n",
        "  printf(\"%zd\\n\", globalSize);\n",
        " \n",
        "  int num_elements = ceil(num_votes/(float)globalSize);\n",
        "   \n",
        "\n",
        "\n",
        "\n",
        "  int *data;\n",
        "  int *local_sum;\n",
        "  int *global_sum;\n",
        " \n",
        " // Allocate memory for data from file in the host\n",
        " data = (int *)malloc(sizeof(int) * num_votes * num_candidates);\n",
        " local_sum = (int *)malloc(sizeof(int) * num_candidates);\n",
        " global_sum = (int *)malloc(sizeof(int) * num_candidates);\n",
        "\n",
        "\n",
        "\n",
        "  for(int i = 0; i < num_votes*num_candidates; i++) {       \n",
        "              fscanf(file, \"%d\", &data[i ]); // one vector of data   \n",
        "      }\n",
        "\n",
        "\n",
        "    fclose(file);\n",
        " \n",
        "  \n",
        "   /////////////////// OpenCL stuff /////////////////////\n",
        "\n",
        "  ///// Buffers /////\n",
        "\n",
        "    // Device input buffers\n",
        "      cl_mem d_data;\n",
        "    // Device output buffer\n",
        "      cl_mem d_local_sum;\n",
        "      cl_mem d_global_sum;\n",
        "\n",
        "\n",
        "\n",
        "\n",
        "  ////////////////////////////////////////\n",
        "   \n",
        "    #include \"setup.h\"\n",
        "\n",
        "\n",
        "\n",
        "    kernel = clCreateKernel(program, \"vec_add\", &err);\n",
        "      \n",
        "    if (!kernel || err != CL_SUCCESS)\n",
        "    {\n",
        "        printf(\"Error: Failed to create compute kernel!\\n\");\n",
        "        exit(1);\n",
        "    }\n",
        "   \n",
        "     // Create the input and output arrays in device memory for our calculation\n",
        "   \n",
        "      d_data = clCreateBuffer(context, CL_MEM_READ_ONLY, sizeof(int) * num_votes * num_candidates , NULL, NULL);\n",
        "      d_local_sum = clCreateBuffer(context, CL_MEM_READ_WRITE, sizeof(int) * num_candidates, NULL, NULL);\n",
        "      d_global_sum = clCreateBuffer(context, CL_MEM_WRITE_ONLY, sizeof(int) * num_candidates, NULL, NULL);\n",
        "   \n",
        "\n",
        "      err = clEnqueueWriteBuffer(commands, d_data, CL_TRUE, 0, sizeof(int) * num_votes * num_candidates, data, 0, NULL, NULL); // write data into buffer\n",
        "\n",
        "   \n",
        "   ///////  Execute  ////////\"\n",
        "\n",
        "       // Set the arguments to our compute kernel\n",
        "      err  = clSetKernelArg(kernel, 0, sizeof(cl_mem), &d_data);\n",
        "      err |= clSetKernelArg(kernel, 1, sizeof(cl_mem), NULL);\n",
        "      err |= clSetKernelArg(kernel, 2, sizeof(cl_mem), &d_global_sum);\n",
        "      err |= clSetKernelArg(kernel, 3, sizeof(int), &num_votes);\n",
        "      err |= clSetKernelArg(kernel, 4, sizeof(int), &num_candidates);\n",
        "      err |= clSetKernelArg(kernel, 5, sizeof(int), &num_elements);\n",
        "\n",
        " \n",
        " \n",
        "   \n",
        "     // Execute the kernel over the entire range of the data set  \n",
        "      printf(\"Executing\\n\");\n",
        "      err = clEnqueueNDRangeKernel(commands, kernel, 1, NULL, &globalSize, &localSize, 0, NULL, NULL);\n",
        "                                                               \n",
        "      // Wait for the command queue to get serviced before reading back results\n",
        "      clFinish(commands);\n",
        "   \n",
        "      // Read the results from the device\n",
        "      clEnqueueReadBuffer( commands, d_global_sum, CL_TRUE, 0, sizeof(int) * num_candidates , global_sum, 0, NULL, NULL );\n",
        "      \n",
        "      for(int k = 0; k<num_candidates;k++){\n",
        "          printf(\"global: %d\\n\", global_sum[k]);\n",
        "      }\n",
        "\n",
        " \n",
        "//    if ((double)first/(double)num_votes > 0.5)\n",
        "//    {\n",
        "//        \n",
        "//  // release OpenCL resources\n",
        "//    clReleaseMemObject(d_data);\n",
        "//    clReleaseMemObject(d_local_sum);\n",
        "//    clReleaseMemObject(d_global_sum);\n",
        "//    clReleaseProgram(program);\n",
        "//    clReleaseKernel(kernel);\n",
        "//    clReleaseCommandQueue(commands);\n",
        "//    clReleaseContext(context);\n",
        "// \n",
        "//    //release host memory\n",
        "//    free(data);\n",
        "//    free(local_sum);\n",
        "//    free(global_sum);\n",
        "//     \n",
        "//        return 0;\n",
        "//    }\n",
        "// \n",
        "////  /////////////////// OpenCL stuff // OH SHIT HERE WE GO AGAIN /////////////////////\n",
        "//\n",
        "////      cl_int err1;\n",
        "// \n",
        "////     ///// Prepare the enviroemnt  /////////\n",
        "//\n",
        "////     err1 = clGetPlatformIDs(1, &cpPlatform, NULL);         // Bind to platform\n",
        "// \n",
        "////     err1 = clGetDeviceIDs(cpPlatform, CL_DEVICE_TYPE_GPU, 1, &device_id, NULL);      // Get ID for the device\n",
        "//\n",
        "////     context = clCreateContext(0, 1, &device_id, NULL, NULL, &err1);    // Create a context  \n",
        "//\n",
        "////     queue = clCreateCommandQueue(context, device_id, 0, &err1);     // Create a command queue \n",
        "//\n",
        "////     program = clCreateProgramWithSource(context, 1, (const char **) & Source, NULL, &err);     // Create the compute program from the source buffer\n",
        "//\n",
        "////     clBuildProgram(program, 0, NULL, NULL, NULL, NULL);     // Build the program executable \n",
        "//\n",
        "//\n",
        "////     err1 = clEnqueueWriteBuffer(queue, d_data, CL_TRUE, 0, sizeof(int) * num_votes * num_candidates, data, 0, NULL, NULL); // write data into buffer\n",
        "//\n",
        "////     kernel = clCreateKernel(program, \"TEST\", &err1);\n",
        "// \n",
        "////  ///////  Execute  ////////\n",
        "//\n",
        "////      // Set the arguments to our compute kernel\n",
        "////     err1  = clSetKernelArg(kernel, 0, sizeof(cl_mem), &d_data);\n",
        "////     err1 |= clSetKernelArg(kernel, 1, sizeof(int), &idx_1);\n",
        "////     err1 |= clSetKernelArg(kernel, 2, sizeof(int), &idx_2);\n",
        "////     err1 |= clSetKernelArg(kernel, 3, sizeof(int), &sum_1);\n",
        "////     err1 |= clSetKernelArg(kernel, 3, sizeof(int), &sum_2);\n",
        "// \n",
        "////    // Execute the kernel over the entire range of the data set  \n",
        "////     err = clEnqueueNDRangeKernel(queue, kernel, 1, NULL, &globalSize, &localSize, 0, NULL, NULL);\n",
        "//                                                             \n",
        "////     // Wait for the command queue to get serviced before reading back results\n",
        "////     clFinish(queue);\n",
        "// \n",
        "////     //release OpenCL resources\n",
        "////     clReleaseMemObject(d_data);\n",
        "////     clReleaseMemObject(d_local_sum);\n",
        "////     clReleaseMemObject(d_global_sum);\n",
        "////     clReleaseProgram(program);\n",
        "////     clReleaseKernel(kernel);\n",
        "////     clReleaseCommandQueue(queue);\n",
        "////     clReleaseContext(context);\n",
        "// \n",
        "//    //release host memory\n",
        "//    free(data);\n",
        "//    free(local_sum);\n",
        "//    free(global_sum);\n",
        "//\n",
        "// \n",
        "\n",
        "    return 0;\n",
        " \n",
        "}\n"
      ],
      "execution_count": 217,
      "outputs": [
        {
          "output_type": "stream",
          "text": [
            "Overwriting TEST.c\n"
          ],
          "name": "stdout"
        }
      ]
    },
    {
      "cell_type": "code",
      "metadata": {
        "id": "00-Mom0mw47R"
      },
      "source": [
        "!cc  -I /usr/local/cuda/include TEST.c  /usr/local/cuda/lib64/libOpenCL.so -lm"
      ],
      "execution_count": 218,
      "outputs": []
    },
    {
      "cell_type": "code",
      "metadata": {
        "id": "PjHmhO_Pw6QH",
        "colab": {
          "base_uri": "https://localhost:8080/"
        },
        "outputId": "a2fabf29-5d53-448b-a7c7-9c9bcbaebab7"
      },
      "source": [
        "!./a.out"
      ],
      "execution_count": 219,
      "outputs": [
        {
          "output_type": "stream",
          "text": [
            "600\n",
            "Initializing OpenCL device...\n",
            "Executing\n",
            "0\n",
            "0\n",
            "0\n",
            "0\n",
            "0\n",
            "0\n",
            "6\n",
            "4\n",
            "54\n",
            "54\n",
            "global: 79\n",
            "global: 64\n",
            "global: 77\n",
            "global: 65\n",
            "global: 83\n",
            "global: 63\n",
            "global: 82\n",
            "global: 66\n",
            "4\n",
            "6\n",
            "83\n",
            "82\n"
          ],
          "name": "stdout"
        }
      ]
    },
    {
      "cell_type": "code",
      "metadata": {
        "id": "a6DhFPI2CN5g",
        "colab": {
          "base_uri": "https://localhost:8080/"
        },
        "outputId": "1f0ebf1c-7c5d-40ec-968b-f195a64d2146"
      },
      "source": [
        "%%file print.c\n",
        "\n",
        "#include <stdio.h>\n",
        "#include <stdlib.h>\n",
        "#include <math.h>\n",
        "\n",
        "int main(){\n",
        "    printf(\"I am here\");\n",
        "}"
      ],
      "execution_count": 207,
      "outputs": [
        {
          "output_type": "stream",
          "text": [
            "Overwriting print.c\n"
          ],
          "name": "stdout"
        }
      ]
    },
    {
      "cell_type": "code",
      "metadata": {
        "id": "Et22UmDYFYEY"
      },
      "source": [
        "!gcc -o p print.c"
      ],
      "execution_count": null,
      "outputs": []
    },
    {
      "cell_type": "code",
      "metadata": {
        "colab": {
          "base_uri": "https://localhost:8080/"
        },
        "id": "FrCgX3njFa2s",
        "outputId": "b5671444-527c-43b2-f4af-c2f562e4279f"
      },
      "source": [
        "!./p"
      ],
      "execution_count": null,
      "outputs": [
        {
          "output_type": "stream",
          "text": [
            "I am here"
          ],
          "name": "stdout"
        }
      ]
    },
    {
      "cell_type": "code",
      "metadata": {
        "id": "h_x9AJusFeH1"
      },
      "source": [
        ""
      ],
      "execution_count": null,
      "outputs": []
    }
  ]
}