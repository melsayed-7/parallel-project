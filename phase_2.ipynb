{
  "nbformat": 4,
  "nbformat_minor": 0,
  "metadata": {
    "colab": {
      "name": "phase_2.ipynb",
      "provenance": [],
      "collapsed_sections": [
        "E9KtdbGHuVZP",
        "_FkpAacU0vtN"
      ],
      "toc_visible": true,
      "include_colab_link": true
    },
    "kernelspec": {
      "name": "python3",
      "display_name": "Python 3"
    },
    "accelerator": "GPU"
  },
  "cells": [
    {
      "cell_type": "markdown",
      "metadata": {
        "id": "view-in-github",
        "colab_type": "text"
      },
      "source": [
        "<a href=\"https://colab.research.google.com/github/moustafa-7/parallel-project/blob/main/phase_2.ipynb\" target=\"_parent\"><img src=\"https://colab.research.google.com/assets/colab-badge.svg\" alt=\"Open In Colab\"/></a>"
      ]
    },
    {
      "cell_type": "code",
      "metadata": {
        "id": "Iot-W1sspEe7"
      },
      "source": [
        "#setup"
      ],
      "execution_count": null,
      "outputs": []
    },
    {
      "cell_type": "code",
      "metadata": {
        "id": "_C029FtL8AFV"
      },
      "source": [
        ""
      ],
      "execution_count": null,
      "outputs": []
    },
    {
      "cell_type": "code",
      "metadata": {
        "colab": {
          "base_uri": "https://localhost:8080/"
        },
        "id": "xi3HrfBGHPvc",
        "outputId": "30dfdb91-f48e-4daf-841f-dc576300941c"
      },
      "source": [
        "from google.colab import drive\n",
        "drive.mount('/content/drive')"
      ],
      "execution_count": 32,
      "outputs": [
        {
          "output_type": "stream",
          "text": [
            "Drive already mounted at /content/drive; to attempt to forcibly remount, call drive.mount(\"/content/drive\", force_remount=True).\n"
          ],
          "name": "stdout"
        }
      ]
    },
    {
      "cell_type": "code",
      "metadata": {
        "colab": {
          "base_uri": "https://localhost:8080/"
        },
        "id": "BU96IZZWHfvK",
        "outputId": "62cfeb19-534d-4696-a270-47df10284f75"
      },
      "source": [
        "%cd /content/drive/MyDrive/parallel_final_project"
      ],
      "execution_count": 33,
      "outputs": [
        {
          "output_type": "stream",
          "text": [
            "/content/drive/MyDrive/parallel_final_project\n"
          ],
          "name": "stdout"
        }
      ]
    },
    {
      "cell_type": "code",
      "metadata": {
        "colab": {
          "base_uri": "https://localhost:8080/"
        },
        "id": "9Rl9eAygs5WI",
        "outputId": "4468dc6b-5908-41c9-d8b7-ab1e90f4a89d"
      },
      "source": [
        "!g++ -fopenmp -o gen filegen.cpp \n",
        "!sleep 5\n",
        "!./gen"
      ],
      "execution_count": 34,
      "outputs": [
        {
          "output_type": "stream",
          "text": [
            "File generated\n"
          ],
          "name": "stdout"
        }
      ]
    },
    {
      "cell_type": "markdown",
      "metadata": {
        "id": "E9KtdbGHuVZP"
      },
      "source": [
        "## load kernel function"
      ]
    },
    {
      "cell_type": "code",
      "metadata": {
        "colab": {
          "base_uri": "https://localhost:8080/"
        },
        "id": "hbblwsrSwhiR",
        "outputId": "6234b27b-b4c3-4e9b-d7f6-c246a82e77f4"
      },
      "source": [
        "%%file load_kernel.h\n",
        "\n",
        "long LoadOpenCLKernel(char const* path, char **buf)\n",
        "{\n",
        "    FILE  *fp;\n",
        "    size_t fsz;\n",
        "    long   off_end;\n",
        "    int    rc;\n",
        "\n",
        "    /* Open the file */\n",
        "    fp = fopen(path, \"r\");\n",
        "    if( NULL == fp ) {\n",
        "        return -1L;\n",
        "    }\n",
        "\n",
        "    /* Seek to the end of the file */\n",
        "    rc = fseek(fp, 0L, SEEK_END);\n",
        "    if( 0 != rc ) {\n",
        "        return -1L;\n",
        "    }\n",
        "\n",
        "    /* Byte offset to the end of the file (size) */\n",
        "    if( 0 > (off_end = ftell(fp)) ) {\n",
        "        return -1L;\n",
        "    }\n",
        "    fsz = (size_t)off_end;\n",
        "\n",
        "    /* Allocate a buffer to hold the whole file */\n",
        "    *buf = (char *) malloc( fsz+1);\n",
        "    if( NULL == *buf ) {\n",
        "        return -1L;\n",
        "    }\n",
        "\n",
        "    /* Rewind file pointer to start of file */\n",
        "    rewind(fp);\n",
        "\n",
        "    /* Slurp file into buffer */\n",
        "    if( fsz != fread(*buf, 1, fsz, fp) ) {\n",
        "        free(*buf);\n",
        "        return -1L;\n",
        "    }\n",
        "\n",
        "    /* Close the file */\n",
        "    if( EOF == fclose(fp) ) {\n",
        "        free(*buf);\n",
        "        return -1L;\n",
        "    }\n",
        "\n",
        "\n",
        "    /* Make sure the buffer is NUL-terminated, just in case */\n",
        "    (*buf)[fsz] = '\\0';\n",
        "\n",
        "    /* Return the file size */\n",
        "    return (long)fsz;\n",
        "}\n"
      ],
      "execution_count": 35,
      "outputs": [
        {
          "output_type": "stream",
          "text": [
            "Overwriting load_kernel.h\n"
          ],
          "name": "stdout"
        }
      ]
    },
    {
      "cell_type": "markdown",
      "metadata": {
        "id": "_FkpAacU0vtN"
      },
      "source": [
        "## Setup"
      ]
    },
    {
      "cell_type": "code",
      "metadata": {
        "colab": {
          "base_uri": "https://localhost:8080/"
        },
        "id": "zjnh5JYezxh5",
        "outputId": "5798d739-74a9-4182-a9e7-92f28e14dd78"
      },
      "source": [
        "%%file setup.h\n",
        "\n",
        "printf(\"Initializing OpenCL device...\\n\");\n",
        "\n",
        "   cl_uint dev_cnt = 0;\n",
        "   clGetPlatformIDs(0, 0, &dev_cnt);\n",
        "\n",
        "   cl_platform_id platform_ids[dev_cnt];\n",
        "   clGetPlatformIDs(dev_cnt, platform_ids, NULL);\n",
        "\n",
        "   // Connect to a compute device\n",
        "   int gpu = 1;\n",
        "   err = clGetDeviceIDs(platform_ids[0], gpu ? CL_DEVICE_TYPE_GPU : CL_DEVICE_TYPE_CPU, 1, &device_id, NULL);\n",
        "   if (err != CL_SUCCESS)\n",
        "   {\n",
        "       printf(\"Error: Failed to create a device group!\\n\");\n",
        "       return EXIT_FAILURE;\n",
        "   }\n",
        "\n",
        "   // Create a compute context\n",
        "   context = clCreateContext(0, 1, &device_id, NULL, NULL, &err);\n",
        "   if (!context)\n",
        "   {\n",
        "       printf(\"Error: Failed to create a compute context!\\n\");\n",
        "       return EXIT_FAILURE;\n",
        "   }\n",
        "\n",
        "   // Create a command commands\n",
        "   commands = clCreateCommandQueue(context, device_id, 0, &err);\n",
        "   if (!commands)\n",
        "   {\n",
        "       printf(\"Error: Failed to create a command commands!\\n\");\n",
        "       return EXIT_FAILURE;\n",
        "   }\n",
        "\n",
        "   // Create the compute program from the source file\n",
        "   char *KernelSource;\n",
        "   long lFileSize;\n",
        "\n",
        "\n",
        "\n",
        "   // ############# change kernel name here ############################## replace \"add_kernel.cl\" with whatever \n",
        "   lFileSize = LoadOpenCLKernel(\"vec_add.cl\", &KernelSource);\n",
        "   \n",
        "   if( lFileSize < 0L ) {\n",
        "       printf(\"\\nhere\");\n",
        "       perror(\"File read failed\");\n",
        "       return 1;\n",
        "   }\n",
        "\n",
        "   program = clCreateProgramWithSource(context, 1, (const char **) & KernelSource, NULL, &err);\n",
        "   if (!program)\n",
        "   {\n",
        "       printf(\"Error: Failed to create compute program!\\n\");\n",
        "       return EXIT_FAILURE;\n",
        "   }\n",
        "\n",
        "   // Build the program executable\n",
        "   err = clBuildProgram(program, 0, NULL, NULL, NULL, NULL);\n",
        "   if (err != CL_SUCCESS)\n",
        "   {\n",
        "       size_t len;\n",
        "       char buffer[2048];\n",
        "       printf(\"Error: Failed to build program executable!\\n\");\n",
        "       clGetProgramBuildInfo(program, device_id, CL_PROGRAM_BUILD_LOG, sizeof(buffer), buffer, &len);\n",
        "       printf(\"%s\\n\", buffer);\n",
        "       exit(1);\n",
        "   }"
      ],
      "execution_count": 36,
      "outputs": [
        {
          "output_type": "stream",
          "text": [
            "Overwriting setup.h\n"
          ],
          "name": "stdout"
        }
      ]
    },
    {
      "cell_type": "markdown",
      "metadata": {
        "id": "yydQkBpUyJbN"
      },
      "source": [
        "## Kernel/s"
      ]
    },
    {
      "cell_type": "code",
      "metadata": {
        "colab": {
          "base_uri": "https://localhost:8080/"
        },
        "id": "Xkrt-jpOxEs_",
        "outputId": "83950d09-e611-4e78-ec87-22be30949edd"
      },
      "source": [
        "%%file vec_add.cl\n",
        "\n",
        "int find_max2(__global int* array, int n, int *largest1, int *largest2, int* idx1, int *idx2)\n",
        "{\n",
        "    int temp;\n",
        "    int tempIdx;\n",
        "    *largest1 = array[0];\n",
        "    *largest2 = array[1];\n",
        "    *idx1 = 0;\n",
        "    *idx2 = 1;\n",
        "\n",
        "    if (*largest1 < *largest2)\n",
        "    {\n",
        "        temp = *largest1;\n",
        "        *largest1 = *largest2;\n",
        "        *largest2 = temp;\n",
        "        tempIdx = *idx1;\n",
        "        *idx1 = *idx2;\n",
        "        *idx2 = tempIdx;\n",
        "    }\n",
        " \n",
        "    for (int i = 2; i < n; i++)\n",
        "    {\n",
        "        if (array[i] >= *largest1)\n",
        "        {\n",
        "            *largest2 = *largest1;\n",
        "            *largest1 = array[i];\n",
        "            *idx2 = *idx1;\n",
        "            *idx1 = i;\n",
        "        }\n",
        "        else if (array[i] > *largest2 && array[i] != *largest1)\n",
        "        {\n",
        "            *largest2 = array[i];\n",
        "            *idx2 = i;\n",
        "        }\n",
        "    }\n",
        "}\n",
        "\n",
        "__kernel void vec_add(                           \n",
        "    __global int* data,                           \n",
        "    __local int* local_sum,                           \n",
        "    __global int* global_sum,\n",
        "    __global int* round_2_variables,\n",
        "    const unsigned int num_votes ,                     \n",
        "    const unsigned int num_candidates,\n",
        "    const unsigned int num_elements                   \n",
        "    )                                             \n",
        "{            \n",
        "    int id = get_global_id(0); \n",
        "    int local_id = get_local_id(0);\n",
        "                \n",
        "    int begin = id * num_elements;\n",
        "    int end = begin + (num_elements - 1);\n",
        " \n",
        "    begin = begin * num_candidates;\n",
        "    end = end * (num_candidates) + num_candidates;\n",
        "\n",
        "    for(int i=begin; i<end; i+=num_candidates){\n",
        "        if(i < num_candidates*num_votes){\n",
        "            atomic_add(&local_sum[data[i]-1] , 1);\n",
        "        }\n",
        "        else{\n",
        "            break;\n",
        "        }\n",
        "    }            \n",
        "    \n",
        "    barrier(CLK_LOCAL_MEM_FENCE);\n",
        "\n",
        "\n",
        "    if(local_id == 0){\n",
        "        for(int j=0; j<num_candidates; j++){\n",
        "            atomic_add(&global_sum[j] , local_sum[j]);\n",
        "        }\n",
        "    }\n",
        "\n",
        "    barrier(CLK_GLOBAL_MEM_FENCE);\n",
        "\n",
        "    int idx_1 = 4;\n",
        "    int idx_2 = 6;\n",
        "    int first_count = 83;\n",
        "    int second = 82; \n",
        "\n",
        "    find_max2(global_sum, num_candidates, &first_count, &second, &idx_1, &idx_2);\n",
        "\n",
        "\n",
        "    //////////////////////////////////////////////////////////////////////////\n",
        "    barrier(CLK_LOCAL_MEM_FENCE | CLK_GLOBAL_MEM_FENCE);\n",
        "\n",
        "    for(int j=0;j<num_candidates; j++){\n",
        "        local_sum[j] = 0;\n",
        "    }\n",
        "\n",
        "    barrier(CLK_LOCAL_MEM_FENCE | CLK_GLOBAL_MEM_FENCE);\n",
        "    local_sum[idx_1] = 0;\n",
        "    local_sum[idx_2] = 0;\n",
        "\n",
        "    barrier(CLK_LOCAL_MEM_FENCE | CLK_GLOBAL_MEM_FENCE);\n",
        "\n",
        "\n",
        "    if((double)first_count/(double)num_votes < 0.5){\n",
        "      for(int i=begin; i<end; i+=num_candidates){\n",
        "        if(i < num_candidates*num_votes){\n",
        "          for(int j=0; j< num_candidates; j++){\n",
        "              if(data[i+j]-1 == idx_1){\n",
        "                atomic_add(&local_sum[data[i+j]-1], 1);\n",
        "                break;\n",
        "              }\n",
        "              if(data[i+j]-1 == idx_2){\n",
        "                atomic_add(&local_sum[data[i+j]-1], 1);\n",
        "                break;\n",
        "              }\n",
        "          }\n",
        "        }\n",
        "        else{\n",
        "            break;\n",
        "        }\n",
        "      }    \n",
        "    }\n",
        "\n",
        "    barrier(CLK_LOCAL_MEM_FENCE | CLK_GLOBAL_MEM_FENCE);\n",
        "    if(local_id == 0){\n",
        "        atomic_add(&round_2_variables[0], local_sum[idx_1]);\n",
        "        atomic_add(&round_2_variables[1], local_sum[idx_2]);\n",
        "    }\n",
        "    if(id == 0){\n",
        "        atomic_add(&round_2_variables[2], idx_1);\n",
        "        atomic_add(&round_2_variables[3], idx_2);\n",
        "    }\n",
        "}\n"
      ],
      "execution_count": 37,
      "outputs": [
        {
          "output_type": "stream",
          "text": [
            "Overwriting vec_add.cl\n"
          ],
          "name": "stdout"
        }
      ]
    },
    {
      "cell_type": "code",
      "metadata": {
        "colab": {
          "base_uri": "https://localhost:8080/"
        },
        "id": "tJ8DJmiuplYM",
        "outputId": "ab5d707c-5299-4263-e595-7681c8bec074"
      },
      "source": [
        "%%file TEST.c\n",
        "\n",
        "// #include <stdio.h>\n",
        "// #include <stdlib.h>\n",
        "// #include <math.h>\n",
        "// #include \"load_kernel.h\"\n",
        "// #include <CL/cl.h>                                                        \n",
        "\n",
        "\n",
        "#include <fcntl.h>\n",
        "#include <stdio.h>\n",
        "#include <stdlib.h>\n",
        "#include <string.h>\n",
        "#include <math.h>\n",
        "#include <unistd.h>\n",
        "#include <time.h>\n",
        "#include <sys/types.h>\n",
        "#include <sys/stat.h>\n",
        "#define CL_USE_DEPRECATED_OPENCL_1_2_APIS\n",
        "#include <CL/cl.h>\n",
        "#include <stdbool.h>\n",
        "#include \"load_kernel.h\"\n",
        "\n",
        "#ifdef _WIN32\n",
        "#include <Windows.h>\n",
        "#else\n",
        "#include <unistd.h>\n",
        "#endif\n",
        "\n",
        "\n",
        "// function that returns the largest 2 counts and their indecies\n",
        "int find_max2(int* array, int n, int *largest1, int *largest2, int* idx1, int *idx2)\n",
        "{\n",
        "    int temp;\n",
        "    int tempIdx;\n",
        "    *largest1 = array[0];\n",
        "    *largest2 = array[1];\n",
        "    *idx1 = 0;\n",
        "    *idx2 = 1;\n",
        "\n",
        "    if (*largest1 < *largest2)\n",
        "    {\n",
        "        temp = *largest1;\n",
        "        *largest1 = *largest2;\n",
        "        *largest2 = temp;\n",
        "        tempIdx = *idx1;\n",
        "        *idx1 = *idx2;\n",
        "        *idx2 = tempIdx;\n",
        "    }\n",
        " \n",
        "    for (int i = 2; i < n; i++)\n",
        "    {\n",
        "        if (array[i] >= *largest1)\n",
        "        {\n",
        "            *largest2 = *largest1;\n",
        "            *largest1 = array[i];\n",
        "            *idx2 = *idx1;\n",
        "            *idx1 = i;\n",
        "        }\n",
        "        else if (array[i] > *largest2 && array[i] != *largest1)\n",
        "        {\n",
        "            *largest2 = array[i];\n",
        "            *idx2 = i;\n",
        "        }\n",
        "    }\n",
        "}\n",
        "//\n",
        "\n",
        "int main(int argc, char *argv[])\n",
        "{\n",
        "    \n",
        " ////////////////// Host stuff ///////////////////////\n",
        "\n",
        "  int err;                            // error code returned from api calls\n",
        "\n",
        "  cl_device_id device_id;             // compute device id\n",
        "  cl_context context;                 // compute context\n",
        "  cl_command_queue commands;          // compute command queue\n",
        "  cl_program program;                 // compute program\n",
        "  cl_kernel kernel;                   // compute kernel\n",
        "  clock_t          st, et;                  // Count time\n",
        " \n",
        "//  \n",
        "/////////////////////////////////////////\n",
        "  int num_votes; // number of votes in the file\n",
        "  int num_candidates;\n",
        "  // reading file and put it in data\n",
        "  static const char filename[] = \"./text.txt\";\n",
        "  FILE *file = fopen(filename, \"r\");\n",
        "\n",
        "\n",
        "  fscanf(file, \"%d\", &num_candidates);\n",
        "\n",
        "  fscanf(file, \"%d\", &num_votes);\n",
        "\n",
        "\n",
        "/////////////////////////////////////////\n",
        "  \n",
        "  size_t globalSize, localSize;\n",
        "  // cl_int err;\n",
        "  localSize = 100;\n",
        "  globalSize = ceil(num_votes/(float)localSize)*localSize;\n",
        "\n",
        " \n",
        "  \n",
        "  // printf(\"%zd\\n\", globalSize);\n",
        " \n",
        "  int num_elements = ceil(num_votes/(float)globalSize);\n",
        "   \n",
        "\n",
        "\n",
        "\n",
        "  int *data;\n",
        "  int *local_sum;\n",
        "  int *global_sum;\n",
        "  int *round_2_variables;\n",
        " \n",
        " // Allocate memory for data from file in the host\n",
        " data = (int*)malloc(sizeof(int) * num_votes * num_candidates);\n",
        " local_sum = (int*)malloc(sizeof(int) * num_candidates);\n",
        " global_sum = (int*)malloc(sizeof(int) * num_candidates);\n",
        " round_2_variables = (int*)malloc(sizeof(int) * 4); // hightest_idx1, highest_idx2, count1, count2\n",
        "\n",
        "\n",
        "\n",
        "  for(int i = 0; i < num_votes*num_candidates; i++) {       \n",
        "              fscanf(file, \"%d\", &data[i ]); // one vector of data   \n",
        "      }\n",
        "\n",
        "\n",
        "    fclose(file);\n",
        " \n",
        "  \n",
        "   /////////////////// OpenCL stuff /////////////////////\n",
        "\n",
        "  ///// Buffers /////\n",
        "\n",
        "    // Device input buffers\n",
        "      cl_mem d_data;\n",
        "    // Device output buffer\n",
        "      cl_mem d_local_sum;\n",
        "      cl_mem d_global_sum;\n",
        "      cl_mem d_round_2_variables;\n",
        "\n",
        "\n",
        "\n",
        "\n",
        "  ////////////////////////////////////////\n",
        "   \n",
        "    #include \"setup.h\"\n",
        "\n",
        "\n",
        "\n",
        "    kernel = clCreateKernel(program, \"vec_add\", &err);\n",
        "      \n",
        "    if (!kernel || err != CL_SUCCESS)\n",
        "    {\n",
        "        printf(\"Error: Failed to create compute kernel!\\n\");\n",
        "        exit(1);\n",
        "    }\n",
        "   \n",
        "     // Create the input and output arrays in device memory for our calculation\n",
        "   \n",
        "      d_data = clCreateBuffer(context, CL_MEM_READ_ONLY, sizeof(int) * num_votes * num_candidates , NULL, NULL);\n",
        "      d_local_sum = clCreateBuffer(context, CL_MEM_READ_WRITE, sizeof(int) * num_candidates, NULL, NULL);\n",
        "      d_global_sum = clCreateBuffer(context, CL_MEM_WRITE_ONLY, sizeof(int) * num_candidates, NULL, NULL);\n",
        "      d_round_2_variables = clCreateBuffer(context, CL_MEM_WRITE_ONLY, sizeof(int) * 4, NULL, NULL);\n",
        "   \n",
        "\n",
        "      err = clEnqueueWriteBuffer(commands, d_data, CL_TRUE, 0, sizeof(int) * num_votes * num_candidates, data, 0, NULL, NULL); // write data into buffer\n",
        "\n",
        "   \n",
        "   ///////  Execute  ////////\"\n",
        "\n",
        "       // Set the arguments to our compute kernel\n",
        "      err  = clSetKernelArg(kernel, 0, sizeof(cl_mem), &d_data);\n",
        "      err |= clSetKernelArg(kernel, 1, sizeof(cl_mem), NULL);\n",
        "      err |= clSetKernelArg(kernel, 2, sizeof(cl_mem), &d_global_sum);\n",
        "      err |= clSetKernelArg(kernel, 3, sizeof(cl_mem), &d_round_2_variables);\n",
        "      err |= clSetKernelArg(kernel, 4, sizeof(int), &num_votes);\n",
        "      err |= clSetKernelArg(kernel, 5, sizeof(int), &num_candidates);\n",
        "      err |= clSetKernelArg(kernel, 6, sizeof(int), &num_elements);\n",
        "\n",
        " \n",
        " \n",
        "   \n",
        "     // Execute the kernel over the entire range of the data set  \n",
        "      printf(\"Executing\\n\");\n",
        "      err = clEnqueueNDRangeKernel(commands, kernel, 1, NULL, &globalSize, &localSize, 0, NULL, NULL);\n",
        "                                                               \n",
        "      // Wait for the command queue to get serviced before reading back results\n",
        "      clFinish(commands);\n",
        "   \n",
        "      // Read the results from the device\n",
        "      clEnqueueReadBuffer( commands, d_global_sum, CL_TRUE, 0, sizeof(int) * num_candidates , global_sum, 0, NULL, NULL );\n",
        "      clEnqueueReadBuffer( commands, d_round_2_variables, CL_TRUE, 0, sizeof(int) * 4 , round_2_variables, 0, NULL, NULL );\n",
        "      \n",
        "      \n",
        "      printf(\"\\n\\nBegin round 1\\n================================================\\n\");\n",
        "      int winner;\n",
        " \n",
        "      for(int i=0; i<num_candidates; i++){\n",
        "            printf(\"Candidate [%d] count: %d\\n\",i+1, global_sum[i]);\n",
        "        }\n",
        "\n",
        "      for(int k=0; k<num_candidates;k++)\n",
        "          printf(\"Percentage of candidate [%d] in round 1: %f %%\\n\", k+1, (double)global_sum[k]*100/(double)num_votes);\n",
        "      \n",
        "      \n",
        "      \n",
        "      \n",
        "      \n",
        "      \n",
        "      \n",
        "      \n",
        "      \n",
        "      \n",
        "      \n",
        "      if(round_2_variables[0] != 0 && round_2_variables[1]!=0){\n",
        "        printf(\"\\n\\nBegin round 2\\n================================================\\n\");\n",
        "        for(int i=0; i<2; i++){\n",
        "              printf(\"candidate [%d] count: %d\",round_2_variables[i+2]+1, round_2_variables[i]);\n",
        "              printf(\"\\n\");\n",
        "          }\n",
        "        for(int k=0; k<2;k++)\n",
        "            printf(\"Percentage of candidate [%d] in round 2: %f %%\\n\", round_2_variables[k+2]+1, (double)round_2_variables[k]*100/(double)num_votes);\n",
        "\n",
        "        if(round_2_variables[0] != round_2_variables[1]){\n",
        "          winner = (round_2_variables[0] > round_2_variables[1]) ?  round_2_variables[2]: round_2_variables[3];\n",
        "          printf(\"\\nCandidate [%d] wins\\n\", winner+1);\n",
        "        }\n",
        "        else\n",
        "          printf(\"It's a draw!\\n\");\n",
        "\n",
        "      }\n",
        " \n",
        "      else{\n",
        "          printf(\"\\nCandidate [%d] won in first round\\n\", round_2_variables[2]+1);\n",
        "      }\n",
        "\n",
        "\n",
        "    return 0;\n",
        " \n",
        "}\n"
      ],
      "execution_count": 38,
      "outputs": [
        {
          "output_type": "stream",
          "text": [
            "Overwriting TEST.c\n"
          ],
          "name": "stdout"
        }
      ]
    },
    {
      "cell_type": "code",
      "metadata": {
        "id": "00-Mom0mw47R"
      },
      "source": [
        "!cc  -I /usr/local/cuda/include TEST.c  /usr/local/cuda/lib64/libOpenCL.so -lm"
      ],
      "execution_count": 39,
      "outputs": []
    },
    {
      "cell_type": "code",
      "metadata": {
        "id": "PjHmhO_Pw6QH",
        "colab": {
          "base_uri": "https://localhost:8080/"
        },
        "outputId": "09407327-ef30-4eb0-f7ca-c1cbecfefca4"
      },
      "source": [
        "!./a.out"
      ],
      "execution_count": 40,
      "outputs": [
        {
          "output_type": "stream",
          "text": [
            "Initializing OpenCL device...\n",
            "Executing\n",
            "\n",
            "\n",
            "Begin round 1\n",
            "================================================\n",
            "Candidate [1] count: 27\n",
            "Candidate [2] count: 25\n",
            "Candidate [3] count: 20\n",
            "Candidate [4] count: 37\n",
            "Candidate [5] count: 27\n",
            "Candidate [6] count: 30\n",
            "Candidate [7] count: 34\n",
            "Percentage of candidate [1] in round 1: 13.500000 %\n",
            "Percentage of candidate [2] in round 1: 12.500000 %\n",
            "Percentage of candidate [3] in round 1: 10.000000 %\n",
            "Percentage of candidate [4] in round 1: 18.500000 %\n",
            "Percentage of candidate [5] in round 1: 13.500000 %\n",
            "Percentage of candidate [6] in round 1: 15.000000 %\n",
            "Percentage of candidate [7] in round 1: 17.000000 %\n",
            "\n",
            "\n",
            "Begin round 2\n",
            "================================================\n",
            "candidate [4] count: 106\n",
            "candidate [7] count: 94\n",
            "Percentage of candidate [4] in round 2: 53.000000 %\n",
            "Percentage of candidate [7] in round 2: 47.000000 %\n",
            "\n",
            "Candidate [4] wins\n"
          ],
          "name": "stdout"
        }
      ]
    },
    {
      "cell_type": "code",
      "metadata": {
        "id": "xgKyj4wQuWEX"
      },
      "source": [
        ""
      ],
      "execution_count": null,
      "outputs": []
    }
  ]
}